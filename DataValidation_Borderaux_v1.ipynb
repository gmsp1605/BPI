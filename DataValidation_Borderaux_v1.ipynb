{
 "cells": [
  {
   "cell_type": "code",
   "execution_count": null,
   "metadata": {},
   "outputs": [],
   "source": [
    "import pandas as pd\n",
    "import datetime as dt\n",
    "import warnings\n",
    "warnings.filterwarnings('ignore')\n",
    "\n",
    "ref = dt.date(2024,6,30)\n",
    "\n",
    "file_path = '/content/'\n",
    "file_prod_CM = file_path + 'Prod_06_2024.xlsx'\n",
    "file_prod_PM = file_path + 'Produção - Maio.xlsx'\n",
    "\n",
    "file_bodereaux_CM = file_path + 'bordereaux_cessiones20240703000304.csv'\n",
    "file_portfolio_CM = file_path + 'solvency_portfolio20240702235637.csv'\n",
    "\n",
    "file_DW_CM = file_path + 'DW_Jun_06_Apol_Frac.csv'\n",
    "\n",
    "file_tabua_2023 = file_path + 'D_tabua_a_partir_2023.xlsx'\n",
    "file_tabua_lt_2022 = file_path + 'D_tabua_anterior_dez_2022.xlsx'\n",
    "file_tabua_others = file_path + 'D_tabua_others.xlsx'\n",
    "\n",
    "\n",
    "df_prod_CM = pd.read_excel(file_prod_CM)\n",
    "df_prod_PM = pd.read_excel(file_prod_PM)\n",
    "\n",
    "df_bodereaux_CM = pd.read_csv(file_bodereaux_CM, delimiter=';')\n",
    "df_portfolio_CM = pd.read_csv(file_portfolio_CM, delimiter=';')\n",
    "\n",
    "df_DW_CM = pd.read_csv(file_DW_CM, delimiter=';')\n",
    "\n",
    "df_tabua_2023 = pd.read_excel(file_tabua_2023)\n",
    "df_tabua_lt_2022 = pd.read_excel(file_tabua_lt_2022)\n",
    "df_tabua_others = pd.read_excel(file_tabua_others)\n"
   ]
  },
  {
   "cell_type": "code",
   "execution_count": null,
   "metadata": {},
   "outputs": [],
   "source": [
    "df_portfolio_CM_0 = df_portfolio_CM.copy()\n",
    "\n",
    "df_portfolio_CM_0['Chave2'] = df_portfolio_CM_0['num_apolice'].astype('str') + df_portfolio_CM_0['dt_nascimento'].astype('str') + df_portfolio_CM_0['sexo']\n",
    "\n",
    "df_portfolio_CM_0['produto'] = df_portfolio_CM_0['id_produto'].astype('int')\n",
    "\n",
    "df_portfolio_CM_0 = df_portfolio_CM_0[['Chave2', 'produto', 'perc_agrav_morte', 'perm_agrav_morte']]\n",
    "\n",
    "df_portfolio_CM_1 = df_portfolio_CM_0.drop_duplicates()\n",
    "\n",
    "df_bodereaux_CM_0 = df_bodereaux_CM.copy()\n",
    "\n",
    "df_bodereaux_CM_0['Chave2'] = df_bodereaux_CM_0['NO_POLIZA'].astype('str') + df_bodereaux_CM_0['FECHA_NACIMIENTO'].astype('str') + df_bodereaux_CM_0['SEXO']\n",
    "\n",
    "df_bodereaux_CM_0['FECHA_EFECTO_POLIZA'] = pd.to_datetime(df_bodereaux_CM_0['FECHA_EFECTO_POLIZA'])\n",
    "df_bodereaux_CM_0['FECHA_NACIMIENTO'] = pd.to_datetime(df_bodereaux_CM_0['FECHA_NACIMIENTO'])\n"
   ]
  },
  {
   "cell_type": "code",
   "execution_count": null,
   "metadata": {},
   "outputs": [],
   "source": [
    "print(f'df_prod_CM shape: {df_prod_CM.shape}')\n",
    "print(f'df_prod_PM shape: {df_prod_PM.shape}')\n",
    "print(f'df_bodereaux_CM shape: {df_bodereaux_CM.shape}')\n",
    "print(f'df_portfolio_CM shape: {df_portfolio_CM.shape}')\n",
    "print(f'df_DW_CM shape: {df_DW_CM.shape}')"
   ]
  },
  {
   "cell_type": "code",
   "execution_count": null,
   "metadata": {},
   "outputs": [],
   "source": [
    "df_bodereaux_CM_1 = pd.merge(df_bodereaux_CM_0,df_portfolio_CM_1, how='left', on='Chave2')"
   ]
  },
  {
   "cell_type": "code",
   "execution_count": null,
   "metadata": {},
   "outputs": [],
   "source": [
    "# CHECK MISSING NO JOIN DA BASE PORTFOLIO CURRENT MONTH\n",
    "df_bodereaux_CM_1[df_bodereaux_CM_1['produto'].isna()]"
   ]
  },
  {
   "cell_type": "code",
   "execution_count": null,
   "metadata": {},
   "outputs": [],
   "source": [
    "# INSERIR VALORES NO MISSINGS - CORRER SE TIVER NECESSIDADE, CASO CONTRÁRIO PULE PARA O CODIGO SEGUINTE\n",
    "\n",
    "df_bodereaux_CM_1['produto'] = df_bodereaux_CM_1['produto'].fillna(100)\n",
    "df_bodereaux_CM_1['perc_agrav_morte'] = df_bodereaux_CM_1['perc_agrav_morte'].fillna(0)\n",
    "df_bodereaux_CM_1['perm_agrav_morte'] = df_bodereaux_CM_1['perm_agrav_morte'].fillna(0)"
   ]
  },
  {
   "cell_type": "code",
   "execution_count": null,
   "metadata": {},
   "outputs": [],
   "source": [
    "df_DW_CM_1 = df_DW_CM.drop_duplicates()\n",
    "df_bodereaux_CM_2 = pd.merge(df_bodereaux_CM_1,df_DW_CM_1, how='left', left_on='NO_POLIZA', right_on='Apol')"
   ]
  },
  {
   "cell_type": "code",
   "execution_count": null,
   "metadata": {},
   "outputs": [],
   "source": [
    "# CHECK MISSING NO JOIN DA BASE PORTFOLIO CURRENT MONTH\n",
    "df_bodereaux_CM_1[df_bodereaux_CM_1['produto'].isna()]"
   ]
  },
  {
   "cell_type": "code",
   "execution_count": null,
   "metadata": {},
   "outputs": [],
   "source": [
    "# INSERIR VALORES NO MISSINGS - CORRER SE TIVER NECESSIDADE, CASO CONTRÁRIO PULE PARA O CODIGO SEGUINTE\n",
    "df_bodereaux_CM_2['Fracionamento'] = df_bodereaux_CM_2['Fracionamento'].fillna('M')"
   ]
  },
  {
   "cell_type": "code",
   "execution_count": null,
   "metadata": {},
   "outputs": [],
   "source": [
    "df_bodereaux_CM_2.drop('Apol', axis='columns', inplace=True)"
   ]
  },
  {
   "cell_type": "code",
   "execution_count": null,
   "metadata": {},
   "outputs": [],
   "source": [
    "df_bodereaux_CM_2['EDAD_PLUS_1'] = df_bodereaux_CM_2['EDAD'] + 1\n",
    "df_bodereaux_CM_2['EDAD_MINUS_1'] = df_bodereaux_CM_2['EDAD'] -1\n",
    "\n",
    "df_tabuas_0 = pd.merge(df_tabua_2023,df_tabua_lt_2022, how='left', on ='IDADE')\n",
    "df_tabuas = pd.merge(df_tabuas_0,df_tabua_others, how='left', on ='IDADE')\n",
    "\n",
    "df_bodereaux_CM_3 = pd.merge(df_bodereaux_CM_2,df_tabuas, how='left', left_on='EDAD_PLUS_1', right_on='IDADE')\n",
    "df_bodereaux_CM_4 = pd.merge(df_bodereaux_CM_3,df_tabuas, how='left', left_on='EDAD_MINUS_1', right_on='IDADE')\n",
    "df_bodereaux_CM_5 = pd.merge(df_bodereaux_CM_4,df_tabuas, how='left', left_on='EDAD', right_on='IDADE')\n",
    "\n",
    "df_bodereaux_CM_5.info()"
   ]
  },
  {
   "cell_type": "code",
   "execution_count": null,
   "metadata": {},
   "outputs": [],
   "source": [
    "df_bodereaux_CM_5.shape"
   ]
  },
  {
   "cell_type": "code",
   "execution_count": null,
   "metadata": {},
   "outputs": [],
   "source": [
    "# 'IDADE_x' = IDADE + 1 / EDAD_PLUS_1\n",
    "# 'IDADE_y' = IDADE - 1 / EDAD_MINUS_1\n",
    "# 'IDADE' = IDADE / EDAD\n",
    "\n",
    "df_bodereaux_CM_5.drop(['IDADE_x', 'IDADE_y', 'IDADE'], axis='columns', inplace=True)"
   ]
  },
  {
   "cell_type": "code",
   "execution_count": null,
   "metadata": {},
   "outputs": [],
   "source": [
    "# VERIFICAR O NOME DO CAMPO E O TIPO DA VARIAVEL: Nª APOLICE E DATA RENOVAÇÃO SEGURO\n",
    "df_prod_CM.info()"
   ]
  },
  {
   "cell_type": "code",
   "execution_count": null,
   "metadata": {},
   "outputs": [],
   "source": [
    "# VERIFICAR O NOME DO CAMPO E O TIPO DA VARIAVEL: Nª APOLICE E DATA RENOVAÇÃO SEGURO\n",
    "df_prod_PM.info()"
   ]
  },
  {
   "cell_type": "code",
   "execution_count": null,
   "metadata": {},
   "outputs": [],
   "source": [
    "# ALTERAR O NOME DO CAMPO Nº DA APOLICE SE FOR NECESSARIO\n",
    "\n",
    "df_prod_CM_0 = df_prod_CM[['Nºdaapólice', 'Data Renovação Seguro']].copy()\n",
    "df_prod_PM_0 = df_prod_PM[['Nº da apólice', 'Data Renovação Seguro']].copy()"
   ]
  },
  {
   "cell_type": "code",
   "execution_count": null,
   "metadata": {},
   "outputs": [],
   "source": [
    "# ALTERAR O NOME DO CAMPO Nº DA APOLICE SE FOR NECESSARIO\n",
    "\n",
    "df_prod_PM_0['Nº da apólice'] = df_prod_PM_0['Nº da apólice'].apply(lambda x: x.replace(\" \", \"\")).astype('int')"
   ]
  },
  {
   "cell_type": "code",
   "execution_count": null,
   "metadata": {},
   "outputs": [],
   "source": [
    "# ALTERAR O NOME DO CAMPO Nº DA APOLICE SE FOR NECESSARIO\n",
    "\n",
    "df_prod_CM_1 = df_prod_CM_0.drop_duplicates()\n",
    "df_prod_CM_1.rename(columns={'Nºdaapólice': 'Apol', 'Data Renovação Seguro': 'Dt_Renov_CM'}, inplace=True)\n",
    "\n",
    "\n",
    "df_prod_PM_1 = df_prod_PM_0.drop_duplicates()\n",
    "df_prod_PM_1.rename(columns={'Nº da apólice': 'Apol', 'Data Renovação Seguro': 'Dt_Renov_PM'}, inplace=True)\n",
    "\n",
    "df_prod_PM_1.info()"
   ]
  },
  {
   "cell_type": "code",
   "execution_count": null,
   "metadata": {},
   "outputs": [],
   "source": [
    "df_bodereaux_CM_6 = pd.merge(df_bodereaux_CM_5,df_prod_PM_1, how='left', left_on='NO_POLIZA', right_on='Apol')\n",
    "df_bodereaux_CM_7 = pd.merge(df_bodereaux_CM_6,df_prod_CM_1, how='left', left_on='NO_POLIZA', right_on='Apol')\n",
    "df_bodereaux_CM_7.drop(['Apol_x', 'Apol_y'], axis='columns', inplace=True)\n",
    "df_bodereaux_CM_7.info()"
   ]
  },
  {
   "cell_type": "code",
   "execution_count": null,
   "metadata": {},
   "outputs": [],
   "source": [
    "# CHECK MISSING NO JOIN DA BASE PRODUÇÃO\n",
    "\n",
    "df_bodereaux_CM_7[(df_bodereaux_CM_7['Dt_Renov_PM'].isna()) & (df_bodereaux_CM_7['Dt_Renov_CM'].isna())]['PERIODO'].count()"
   ]
  },
  {
   "cell_type": "code",
   "execution_count": null,
   "metadata": {},
   "outputs": [],
   "source": [
    "df_bodereaux_CM_7[(df_bodereaux_CM_7['Dt_Renov_PM'].isna()) & (df_bodereaux_CM_7['Dt_Renov_CM'].isna())].head()"
   ]
  },
  {
   "cell_type": "code",
   "execution_count": null,
   "metadata": {},
   "outputs": [],
   "source": [
    "df_bodereaux_CM_8 = df_bodereaux_CM_7.copy()\n",
    "\n",
    "for lab, row in df_bodereaux_CM_8.iterrows():\n",
    "    # Condition 1: If both Dt_Renov_CM and Dt_Renov_PM are NaN\n",
    "    if pd.isna(df_bodereaux_CM_8.loc[lab, 'Dt_Renov_CM']) and pd.isna(df_bodereaux_CM_8.loc[lab, 'Dt_Renov_PM']):\n",
    "        df_bodereaux_CM_8.loc[lab, 'Dt_Renov'] = ref\n",
    "    # Condition 2: If Dt_Renov_CM is NaN but Dt_Renov_PM is available\n",
    "    elif pd.isna(df_bodereaux_CM_8.loc[lab, 'Dt_Renov_PM']):\n",
    "        # Extract month and day directly from the string\n",
    "        month = int(df_bodereaux_CM_8.loc[lab, 'Dt_Renov_CM'][:2])  # First 2 characters as month\n",
    "        day = int(df_bodereaux_CM_8.loc[lab, 'Dt_Renov_CM'][-2:])   # Last 2 characters as day\n",
    "        df_bodereaux_CM_8.loc[lab, 'Dt_Renov'] = dt.date(ref.year, month, day)\n",
    "    # Condition 3: If Dt_Renov_PM is NaN but Dt_Renov_CM is available\n",
    "    elif pd.isna(df_bodereaux_CM_8.loc[lab, 'Dt_Renov_CM']):\n",
    "        # Extract month and day directly from the string\n",
    "        month = int(df_bodereaux_CM_8.loc[lab, 'Dt_Renov_PM'][:2])  # First 2 characters as month\n",
    "        day = int(df_bodereaux_CM_8.loc[lab, 'Dt_Renov_PM'][-2:])   # Last 2 characters as day\n",
    "        df_bodereaux_CM_8.loc[lab, 'Dt_Renov'] = dt.date(ref.year, month, day)\n"
   ]
  },
  {
   "cell_type": "code",
   "execution_count": null,
   "metadata": {},
   "outputs": [],
   "source": [
    "# VALIDAÇÃO DOS CASOS QUE NÃO ESTÃO NA PRODUÇÃO DO MES ATUAL E ANTERIOR\n",
    "\n",
    "df_bodereaux_CM_8[(df_bodereaux_CM_8['Dt_Renov_PM'].isna() == True) & (df_bodereaux_CM_8['Dt_Renov_CM'].isna() == True)].head()"
   ]
  },
  {
   "cell_type": "code",
   "execution_count": null,
   "metadata": {},
   "outputs": [],
   "source": [
    "df_validation_0 = df_bodereaux_CM_8.copy()\n",
    "df_validation_0.drop(['Dt_Renov_PM', 'Dt_Renov_CM'], axis='columns', inplace=True)"
   ]
  },
  {
   "cell_type": "code",
   "execution_count": null,
   "metadata": {},
   "outputs": [],
   "source": [
    "# CRIACAO DOS CHECKS CAPITAL\n",
    "df_validation_0 = df_bodereaux_CM_8.copy()\n",
    "df_validation_0.drop(['Dt_Renov_PM', 'Dt_Renov_CM'], axis='columns', inplace=True)\n",
    "\n",
    "df_validation_0['CHECK_CAP_MORTE'] = round(df_validation_0['CAPITAL_SEGURO_COB_MORTE'] - df_validation_0['CAPITAL_RETIDO_COB_MORTE'] - df_validation_0['CAPITAL_EXCEDENTE_COB_MORTE'] - df_validation_0['CAPITAL_FAC_COB_MORTE'],6)\n",
    "df_validation_0['FLAG_CAP_MORTE'] = df_validation_0['CHECK_CAP_MORTE'].apply(lambda x: 'N' if abs(round(x,1)) > 0 else 'Y')\n",
    "\n",
    "df_validation_0['CHECK_CAP_MAC'] = round(df_validation_0['CAPITAL_SEGURO_COB_MAC'] - df_validation_0['CAPITAL_RETIDO_COB_MAC'] - df_validation_0['CAPITAL_EXCEDENTE_COB_MAC'] - df_validation_0['CAPITAL_FAC_COB_MAC'],6)\n",
    "df_validation_0['FLAG_CAP_MAC'] = df_validation_0['CHECK_CAP_MAC'].apply(lambda x: 'N' if abs(round(x,1)) > 0 else 'Y')\n",
    "\n",
    "df_validation_0['CHECK_CAP_IAD'] = round(df_validation_0['CAPITAL_SEGURO_COB_IAD'] - df_validation_0['CAPITAL_RETIDO_COB_IAD'] - df_validation_0['CAPITAL_EXCEDENTE_COB_IAD'] - df_validation_0['CAPITAL_FAC_COB_IAD'],6)\n",
    "df_validation_0['FLAG_CAP_IAD'] = df_validation_0['CHECK_CAP_IAD'].apply(lambda x: 'N' if abs(round(x,1)) > 0 else 'Y')\n",
    "\n",
    "df_validation_0['CHECK_CAP_ITP'] = round(df_validation_0['CAPITAL_SEGURO_COB_ITP'] - df_validation_0['CAPITAL_RETIDO_COB_ITP'] - df_validation_0['CAPITAL_EXCEDENTE_COB_ITP'] - df_validation_0['CAPITAL_FAC_COB_ITP'],6)\n",
    "df_validation_0['FLAG_CAP_ITP'] = df_validation_0['CHECK_CAP_ITP'].apply(lambda x: 'N' if abs(round(x,1)) > 0 else 'Y')\n",
    "\n",
    "df_validation_0['CHECK_CAP_DG'] = round(df_validation_0['CAPITAL_SEGURO_COB_DG'] - df_validation_0['CAPITAL_RETIDO_COB_DG'] - df_validation_0['CAPITAL_EXCEDENTE_COB_DG'] - df_validation_0['CAPITAL_FAC_COB_DG'],6)\n",
    "df_validation_0['FLAG_CAP_DG'] = df_validation_0['CHECK_CAP_DG'].apply(lambda x: 'N' if abs(round(x,1)) > 0 else 'Y')\n"
   ]
  },
  {
   "cell_type": "code",
   "execution_count": null,
   "metadata": {},
   "outputs": [],
   "source": [
    "df_validation_0[df_validation_0['FLAG_CAP_MAC'] == 'N']"
   ]
  },
  {
   "cell_type": "code",
   "execution_count": null,
   "metadata": {},
   "outputs": [],
   "source": [
    "# CRIACAO DAS TARIFAS\n",
    "\n",
    "# 2023 = tabua 2023 P:X\n",
    "# 1   FALLECIMIENTO_60% PASEM 2010_M  57 non-null     float64\n",
    "# 2   FALLECIMIENTO_60% PASEF 2010_F  57 non-null     float64\n",
    "# 3   IAD_95% Tabla BPI Vida_M        52 non-null     float64\n",
    "# 4   IAD_95% Tabla BPI Vida_F        52 non-null     float64\n",
    "# 5   ITP_60% TNI_M                   47 non-null     float64\n",
    "# 6   ITP_60% TNI_F                   47 non-null     float64\n",
    "# 7   EEGG_TABLA Gen Re_M             47 non-null     float64\n",
    "# 8   EEGG_TABLA Gen Re_F             47 non-null     float64\n",
    "\n",
    "# 2022 = tabua 2022 A:J\n",
    "# 9   MORTE_65% PASEMM                57 non-null     float64\n",
    "# 10  MORTE_65% PASEMF                57 non-null     float64\n",
    "# 11  IAD_TABUA PROPRIA_M             52 non-null     float64\n",
    "# 12  IAD_TABUA PROPRIA_F             52 non-null     float64\n",
    "# 13  ITP_75% GKM80                   47 non-null     float64\n",
    "# 14  ACIDENTES_0,5 MIL               52 non-null     float64\n",
    "# 15  ACIDENTES CIRCULACAO_0,23 MIL   52 non-null     float64\n",
    "# 16  DOENCAS GRAVES_TABUA PROPRIA_M  47 non-null     float64\n",
    "# 17  DOENCAS GRAVES_TABUA PROPRIA_F  47 non-null     float64\n",
    "\n",
    "# OTHERS = OTHERS AM:AR\n",
    "# 18  FALLECIMIENTO_M                 57 non-null     float64\n",
    "# 19  FALLECIMIENTO_F                 57 non-null     float64\n",
    "# 20  IAD_M                           52 non-null     float64\n",
    "# 21  IAD_F                           52 non-null     float64\n",
    "# 22  Unsex                           47 non-null     float64\n",
    "\n",
    "#if ((df_validation_0.loc[lab, 'produto'] == 100) | (df_validation_0.loc[lab, 'produto'] == 104)) & (int(df_validation_0.loc[lab, 'FECHA_EFECTO_POLIZA'][:4]) < 2023):\n",
    "\n",
    "# 'IDADE_x' = IDADE + 1 / EDAD_PLUS_1\n",
    "# 'IDADE_y' = IDADE - 1 / EDAD_MINUS_1\n",
    "# 'IDADE' = IDADE / EDAD\n",
    "\n",
    "# OTHERS\n",
    "#=IF(AND(OR(BH3=100;BH3=104);YEAR(D3)<2023);\n",
    "#    IF(H3=\"M\";VLOOKUP(G3;'Tarifa Resseguro'!$AM$6:$AO$62;2;0);\n",
    "#    VLOOKUP(G3;'Tarifa Resseguro'!$AM$6:$AO$62;3;0));\n",
    "#\n",
    "# Quadro 1 Contrato Resseguro - Tasas reaseguro para Negocio Vinculado de nueva producción a partir de 1.1.2023\n",
    "#    IF(AND(YEAR(D3)>=2023;LEFT(C3;1)*1=1);\n",
    "#       IF(H3=\"M\";VLOOKUP(G3;'Tarifa Resseguro'!$P$6:$X$62;2;FALSE);\n",
    "#       VLOOKUP(G3;'Tarifa Resseguro'!$P$6:$X$62;3;FALSE));\n",
    "#\n",
    "# Quadro 2 Contrato Resseguro - Tasas reaseguro Negocio No Vinculado nueva producción y cartera y de Negocio Vinculado de cartera hasta 31.12.2022:\n",
    "#       IF(H3=\"M\";VLOOKUP(G3;'Tarifa Resseguro'!$A$6:$J$62;2;FALSE);VLOOKUP(G3;'Tarifa Resseguro'!$A$6:$J$62;3;FALSE))))\n",
    "\n",
    "\n",
    "for lab, row in df_validation_0.iterrows():\n",
    "\n",
    "    if ((df_validation_0.loc[lab, 'produto'] == 100) | (df_validation_0.loc[lab, 'produto'] == 104)) & (int(df_validation_0.loc[lab, 'FECHA_EFECTO_POLIZA'].strftime('%Y')) < 2023):\n",
    "      if (df_validation_0.loc[lab, 'SEXO'] == 'M'):\n",
    "        df_validation_0.loc[lab, 'Tarifa'] = df_validation_0.loc[lab, 'FALLECIMIENTO_M']\n",
    "      else:\n",
    "        df_validation_0.loc[lab, 'Tarifa'] = df_validation_0.loc[lab, 'FALLECIMIENTO_F']\n",
    "\n",
    "    elif (int(df_validation_0.loc[lab, 'FECHA_EFECTO_POLIZA'].strftime('%Y')) > 2023) & (str(df_validation_0.loc[lab, 'NO_POLIZA'])[:1] == '1'):\n",
    "      if (df_validation_0.loc[lab, 'SEXO'] == 'M'):\n",
    "        df_validation_0.loc[lab, 'Tarifa'] = df_validation_0.loc[lab, 'FALLECIMIENTO_60% PASEM 2010_M']\n",
    "      else:\n",
    "        df_validation_0.loc[lab, 'Tarifa'] = df_validation_0.loc[lab, 'FALLECIMIENTO_60% PASEF 2010_F']\n",
    "\n",
    "    else:\n",
    "      if (df_validation_0.loc[lab, 'SEXO'] == 'M'):\n",
    "        df_validation_0.loc[lab, 'Tarifa'] = df_validation_0.loc[lab, 'MORTE_65% PASEMM']\n",
    "      else:\n",
    "        df_validation_0.loc[lab, 'Tarifa'] = df_validation_0.loc[lab, 'MORTE_65% PASEMF']\n",
    "\n",
    "    if ((df_validation_0.loc[lab, 'produto'] == 100) | (df_validation_0.loc[lab, 'produto'] == 104)) & (int(df_validation_0.loc[lab, 'FECHA_EFECTO_POLIZA'].strftime('%Y')) < 2023):\n",
    "      if (df_validation_0.loc[lab, 'SEXO'] == 'M'):\n",
    "        df_validation_0.loc[lab, 'Tarifa_PLUS_1'] = df_validation_0.loc[lab, 'FALLECIMIENTO_M_x']\n",
    "      else:\n",
    "        df_validation_0.loc[lab, 'Tarifa_PLUS_1'] = df_validation_0.loc[lab, 'FALLECIMIENTO_F_x']\n",
    "\n",
    "    elif (int(df_validation_0.loc[lab, 'FECHA_EFECTO_POLIZA'].strftime('%Y')) > 2023) & (str(df_validation_0.loc[lab, 'NO_POLIZA'])[:1] == '1'):\n",
    "      if (df_validation_0.loc[lab, 'SEXO'] == 'M'):\n",
    "        df_validation_0.loc[lab, 'Tarifa_PLUS_1'] = df_validation_0.loc[lab, 'FALLECIMIENTO_60% PASEM 2010_M_x']\n",
    "      else:\n",
    "        df_validation_0.loc[lab, 'Tarifa_PLUS_1'] = df_validation_0.loc[lab, 'FALLECIMIENTO_60% PASEF 2010_F_x']\n",
    "\n",
    "    else:\n",
    "      if (df_validation_0.loc[lab, 'SEXO'] == 'M'):\n",
    "        df_validation_0.loc[lab, 'Tarifa_PLUS_1'] = df_validation_0.loc[lab, 'MORTE_65% PASEMM_x']\n",
    "      else:\n",
    "        df_validation_0.loc[lab, 'Tarifa_PLUS_1'] = df_validation_0.loc[lab, 'MORTE_65% PASEMF_x']\n",
    "\n",
    "\n",
    "    if df_validation_0.loc[lab, 'EDAD']  > 18:\n",
    "      if ((df_validation_0.loc[lab, 'produto'] == 100) | (df_validation_0.loc[lab, 'produto'] == 104)) & (int(df_validation_0.loc[lab, 'FECHA_EFECTO_POLIZA'].strftime('%Y')) < 2023):\n",
    "        if (df_validation_0.loc[lab, 'SEXO'] == 'M'):\n",
    "          df_validation_0.loc[lab, 'Tarifa_MINUS_1'] = df_validation_0.loc[lab, 'FALLECIMIENTO_M_y']\n",
    "        else:\n",
    "          df_validation_0.loc[lab, 'Tarifa_MINUS_1'] = df_validation_0.loc[lab, 'FALLECIMIENTO_F_y']\n",
    "\n",
    "      elif (int(df_validation_0.loc[lab, 'FECHA_EFECTO_POLIZA'].strftime('%Y')) > 2023) & (str(df_validation_0.loc[lab, 'NO_POLIZA'])[:1] == '1'):\n",
    "        if (df_validation_0.loc[lab, 'SEXO'] == 'M'):\n",
    "          df_validation_0.loc[lab, 'Tarifa_MINUS_1'] = df_validation_0.loc[lab, 'FALLECIMIENTO_60% PASEM 2010_M_y']\n",
    "        else:\n",
    "          df_validation_0.loc[lab, 'Tarifa_MINUS_1'] = df_validation_0.loc[lab, 'FALLECIMIENTO_60% PASEF 2010_F_y']\n",
    "\n",
    "      else:\n",
    "        if (df_validation_0.loc[lab, 'SEXO'] == 'M'):\n",
    "          df_validation_0.loc[lab, 'Tarifa_MINUS_1'] = df_validation_0.loc[lab, 'MORTE_65% PASEMM_y']\n",
    "        else:\n",
    "          df_validation_0.loc[lab, 'Tarifa_MINUS_1'] = df_validation_0.loc[lab, 'MORTE_65% PASEMF_y']\n",
    "\n",
    "    else:\n",
    "      df_validation_0.loc[lab, 'Tarifa_MINUS_1'] = 0"
   ]
  },
  {
   "cell_type": "code",
   "execution_count": null,
   "metadata": {},
   "outputs": [],
   "source": [
    "# D3 = FECHA_EFECTO_POLIZA\n",
    "# $O$1 = 30/06/2024\n",
    "# BF3 = Agrav %\n",
    "# BG3 = Agrav %0\n",
    "# BR3 = dt renovação 2023\n",
    "\n",
    "# SUM(K3:L3) = CAPITAL_EXCEDENTE_COB_MORTE + CAPITAL_FAC_COB_MORTE\n",
    "# O3 = Tarifa\n",
    "\n",
    "\n",
    "\n",
    "# =+IF(\n",
    "      #AND($O$1-D3<365,25;\n",
    "          #BR3<=$O$1;\n",
    "          #MONTH(BR3)=MONTH($O$1);\n",
    "          #D3<BR3;\n",
    "          #IF(MONTH($O$1)=12;\n",
    "                              #MONTH(D3)=1;\n",
    "                              #MONTH(D3)=MONTH($O$1)+1\n",
    "            #)\n",
    "          #);\n",
    "\n",
    "    #SUM(K3:L3)*O3;\n",
    "\n",
    "    #IF($O$1-D3<365,25;\n",
    "        #SUM(K3:L3)*O3*0,5;\n",
    "        #SUM(K3:L3)*O3))*BF3 +(SUM(K3:L3)/1000*BG3)\n",
    "\n",
    "  df_validation_1 = df_validation_0.copy()\n",
    "\n",
    "\n",
    "  for lab, row in df_validation_1.iterrows():\n",
    "    if (ref.strftime('%M') = 12):\n",
    "\n",
    "      #if ((df_validation_0.loc[lab, 'produto'] == 100) | (df_validation_0.loc[lab, 'produto'] == 104)) & (int(df_validation_0.loc[lab, 'FECHA_EFECTO_POLIZA'].strftime('%Y')) < 2023):\n",
    "      if ((ref - df_validation_0.loc[lab, 'FECHA_EFECTO_POLIZA']) < 365.25) & (df_validation_0.loc[lab, 'Dt_Renov'] <= ref) &\n",
    "      (df_validation_0.loc[lab, 'Dt_Renov'].strftime('%M') == ref.strftime('%M')) & (df_validation_0.loc[lab, 'FECHA_EFECTO_POLIZA'] < df_validation_0.loc[lab, 'Dt_Renov']) &\n",
    "      (df_validation_0.loc[lab, 'FECHA_EFECTO_POLIZA'].strftime('%M') == 1):\n",
    "\n",
    "        df_validation_0.loc[lab, 'Premio_Morte'] = df_validation_0.loc[lab, 'Tarifa'] * (df_validation_0.loc[lab, 'CAPITAL_EXCEDENTE_COB_MORTE'] + df_validation_0.loc[lab, 'CAPITAL_FAC_COB_MORTE'])\n",
    "\n",
    "      else:\n",
    "        if  ((ref - df_validation_0.loc[lab, 'FECHA_EFECTO_POLIZA']) < 365.25):\n",
    "          df_validation_0.loc[lab, 'Premio_Morte'] = df_validation_0.loc[lab, 'Tarifa'] * (df_validation_0.loc[lab, 'CAPITAL_EXCEDENTE_COB_MORTE'] + df_validation_0.loc[lab, 'CAPITAL_FAC_COB_MORTE']) * 0.5\n",
    "        else:\n",
    "\n",
    "\n",
    "\n",
    "\n",
    "\n",
    "\n",
    "\n",
    "    else:\n",
    "      if ((ref - df_validation_0.loc[lab, 'FECHA_EFECTO_POLIZA']) < 365.25) & (df_validation_0.loc[lab, 'Dt_Renov'] <= ref) &\n",
    "      (df_validation_0.loc[lab, 'Dt_Renov'].strftime('%M') == ref.strftime('%M')) & (df_validation_0.loc[lab, 'FECHA_EFECTO_POLIZA'] < df_validation_0.loc[lab, 'Dt_Renov']) &\n",
    "      (df_validation_0.loc[lab, 'FECHA_EFECTO_POLIZA'].strftime('%M') == (ref.strftime('%M') + 1)) :\n",
    "\n",
    "        df_validation_0.loc[lab, 'Premio_Morte'] = df_validation_0.loc[lab, 'Tarifa'] * (df_validation_0.loc[lab, 'CAPITAL_EXCEDENTE_COB_MORTE'] + df_validation_0.loc[lab, 'CAPITAL_FAC_COB_MORTE'])\n",
    "\n",
    "\n",
    "\n",
    "\n",
    "\n",
    "        df_validation_0.loc[lab, 'Tarifa'] = df_validation_0.loc[lab, 'FALLECIMIENTO_M']\n",
    "      else:\n",
    "        df_validation_0.loc[lab, 'Tarifa'] = df_validation_0.loc[lab, 'FALLECIMIENTO_F']"
   ]
  },
  {
   "cell_type": "code",
   "execution_count": null,
   "metadata": {},
   "outputs": [],
   "source": []
  }
 ],
 "metadata": {
  "language_info": {
   "name": "python"
  }
 },
 "nbformat": 4,
 "nbformat_minor": 2
}
